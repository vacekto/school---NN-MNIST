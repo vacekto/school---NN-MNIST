{
 "cells": [
  {
   "cell_type": "code",
   "execution_count": 1,
   "id": "c933a11c",
   "metadata": {
    "_cell_guid": "b1076dfc-b9ad-4769-8c92-a6c4dae69d19",
    "_uuid": "8f2839f25d086af736a60e9eeb907d3b93b6e0e5",
    "execution": {
     "iopub.execute_input": "2022-07-06T15:46:11.096775Z",
     "iopub.status.busy": "2022-07-06T15:46:11.096308Z",
     "iopub.status.idle": "2022-07-06T15:46:11.132701Z",
     "shell.execute_reply": "2022-07-06T15:46:11.131364Z"
    },
    "papermill": {
     "duration": 0.044942,
     "end_time": "2022-07-06T15:46:11.135979",
     "exception": false,
     "start_time": "2022-07-06T15:46:11.091037",
     "status": "completed"
    },
    "tags": []
   },
   "outputs": [],
   "source": [
    "import numpy as np # linear algebra\n",
    "import pandas as pd # data processing, CSV file I/O (e.g. pd.read_csv)\n",
    "import matplotlib.pyplot as plt\n",
    "import time\n",
    "\n",
    "def interpret_output(A2):\n",
    "    return np.argmax(A2, axis=0)[0]\n",
    "\n",
    "def encode(y):\n",
    "    encoded = np.zeros((10, y.size))\n",
    "    encoded[y, np.arange(y.size)] = 1\n",
    "    return encoded\n",
    "\n",
    "def sigmoid(x, deriv=False):\n",
    "    sig = 1/(1 + np.exp(-x))\n",
    "    if(deriv):\n",
    "        return sig*(1-sig)\n",
    "    return sig\n",
    "\n",
    "\n",
    "def init_params():\n",
    "    W1 = np.random.uniform(-0.5, 0.5, (128, 784)).astype('float128')\n",
    "    b1 = np.zeros((128,1)).astype('float128')\n",
    "    W2 = np.random.uniform(-0.5, 0.5, (10, 128)).astype('float128')\n",
    "    b2 = np.zeros((10,1)).astype('float128')\n",
    "    return W1, b1, W2, b2\n",
    "\n",
    "def forward_prop(W1, b1, W2, b2, A0):\n",
    "    Z1=W1.dot(A0) + b1\n",
    "    A1=sigmoid(Z1)\n",
    "    Z2=W2.dot(A1) + b2\n",
    "    A2=sigmoid(Z2)\n",
    "    return A1, Z1, A2, Z2\n",
    "\n",
    "def back_prop(A1, Z1, A2, Z2, A0, y):\n",
    "    #cost function = 1/2 * sum((A2_i - Y_i)^2)\n",
    "    m=y.size\n",
    "    dZ2 = (A2 - encode(y))*sigmoid(Z2, deriv=True)\n",
    "    dW2 = 1/m * dZ2.dot(np.transpose(A1))\n",
    "    db2 = 1/m * np.sum(dZ2, axis=1)\n",
    "    db2.shape += (1,)\n",
    "    dZ1 = np.transpose(dW2).dot(dZ2) * sigmoid(Z1, deriv=True)\n",
    "    dW1 = 1/m * dZ1.dot(np.transpose(A0))\n",
    "    db1 = 1/m * np.sum(dZ1, axis=1)\n",
    "    db1.shape += (1,)\n",
    "    return dW1, db1, dW2, db2\n",
    "\n",
    "def update_params(W1, b1, W2, b2, dW1, db1, dW2, db2, alpha):\n",
    "    W1 = W1 - alpha*dW1\n",
    "    W2 = W2 - alpha*dW2\n",
    "    b1 = b1 - alpha*db1\n",
    "    b2 = b2 - alpha*db2\n",
    "    return W1, b1, W2, b2\n",
    "\n",
    "def train(data, epochs, batch_size, l_rate):\n",
    "    batch_num=int(np.floor(len(data)/batch_size))\n",
    "    indexes=np.arange(batch_num)\n",
    "    fill_batches = lambda idx: data[idx*batch_size:(idx+1)*batch_size, 1:785].T\n",
    "    fill_targets = lambda idx: data[idx*batch_size:(idx+1)*batch_size, 0]\n",
    "    batches=np.array([fill_batches(idx) for idx in indexes])\n",
    "    targets=np.array([fill_targets(idx) for idx in indexes])\n",
    "    W1, b1, W2, b2 = init_params()\n",
    "    for i in range(epochs):\n",
    "        for batch, y in zip(batches, targets):\n",
    "            A1, Z1, A2, Z2 = forward_prop(W1, b1, W2, b2, batch)\n",
    "            dW1, db1, dW2, db2 = back_prop(A1, Z1, A2, Z2, batch, y)\n",
    "            W1, b1, W2, b2 = update_params(W1, b1, W2, b2, dW1, db1, dW2, db2, l_rate)\n",
    "    return W1, b1, W2, b2\n",
    "\n",
    "def test(data, W1, b1, W2, b2):\n",
    "    results = 0\n",
    "    for i in range(len(data)):\n",
    "        A0 = data[i][1:785]\n",
    "        A0.shape += (1,)\n",
    "        y = np.array(data[i][0])\n",
    "        A1, Z1, A2, Z2 = forward_prop(W1, b1, W2, b2, A0)\n",
    "        res = interpret_output(A2) == y\n",
    "        if(res):\n",
    "            results = results + 1\n",
    "    print('accuracy:' , results/len(data) * 100 , \"%\")"
   ]
  },
  {
   "cell_type": "code",
   "execution_count": 2,
   "id": "d93340f5",
   "metadata": {
    "execution": {
     "iopub.execute_input": "2022-07-06T15:46:11.142866Z",
     "iopub.status.busy": "2022-07-06T15:46:11.142455Z",
     "iopub.status.idle": "2022-07-06T15:46:15.177281Z",
     "shell.execute_reply": "2022-07-06T15:46:15.175585Z"
    },
    "papermill": {
     "duration": 4.042038,
     "end_time": "2022-07-06T15:46:15.180723",
     "exception": false,
     "start_time": "2022-07-06T15:46:11.138685",
     "status": "completed"
    },
    "tags": []
   },
   "outputs": [],
   "source": [
    "data = pd.read_csv('/kaggle/input/digit-recognizer/train.csv')\n",
    "data = np.array(data)"
   ]
  },
  {
   "cell_type": "code",
   "execution_count": 3,
   "id": "62f178e6",
   "metadata": {
    "execution": {
     "iopub.execute_input": "2022-07-06T15:46:15.187901Z",
     "iopub.status.busy": "2022-07-06T15:46:15.187450Z",
     "iopub.status.idle": "2022-07-06T16:00:41.018868Z",
     "shell.execute_reply": "2022-07-06T16:00:41.017631Z"
    },
    "papermill": {
     "duration": 865.841064,
     "end_time": "2022-07-06T16:00:41.024408",
     "exception": false,
     "start_time": "2022-07-06T15:46:15.183344",
     "status": "completed"
    },
    "tags": []
   },
   "outputs": [
    {
     "name": "stdout",
     "output_type": "stream",
     "text": [
      "Execution time: 865.8242585659027 seconds\n"
     ]
    }
   ],
   "source": [
    "st = time.time()\n",
    "a, b, c, d = train(data[0:20000], 100, 200, 0.1)\n",
    "et = time.time()\n",
    "elapsed_time = et - st\n",
    "print('Execution time:', elapsed_time, 'seconds')"
   ]
  },
  {
   "cell_type": "code",
   "execution_count": 4,
   "id": "73ea09ab",
   "metadata": {
    "execution": {
     "iopub.execute_input": "2022-07-06T16:00:41.030524Z",
     "iopub.status.busy": "2022-07-06T16:00:41.030168Z",
     "iopub.status.idle": "2022-07-06T16:00:45.354380Z",
     "shell.execute_reply": "2022-07-06T16:00:45.353000Z"
    },
    "papermill": {
     "duration": 4.330181,
     "end_time": "2022-07-06T16:00:45.356868",
     "exception": false,
     "start_time": "2022-07-06T16:00:41.026687",
     "status": "completed"
    },
    "tags": []
   },
   "outputs": [
    {
     "name": "stdout",
     "output_type": "stream",
     "text": [
      "accuracy: 79.735 %\n"
     ]
    }
   ],
   "source": [
    "test(data[20000:40000], a, b, c, d )"
   ]
  }
 ],
 "metadata": {
  "kernelspec": {
   "display_name": "Python 3",
   "language": "python",
   "name": "python3"
  },
  "language_info": {
   "codemirror_mode": {
    "name": "ipython",
    "version": 3
   },
   "file_extension": ".py",
   "mimetype": "text/x-python",
   "name": "python",
   "nbconvert_exporter": "python",
   "pygments_lexer": "ipython3",
   "version": "3.7.12"
  },
  "papermill": {
   "default_parameters": {},
   "duration": 886.825392,
   "end_time": "2022-07-06T16:00:46.085144",
   "environment_variables": {},
   "exception": null,
   "input_path": "__notebook__.ipynb",
   "output_path": "__notebook__.ipynb",
   "parameters": {},
   "start_time": "2022-07-06T15:45:59.259752",
   "version": "2.3.4"
  }
 },
 "nbformat": 4,
 "nbformat_minor": 5
}

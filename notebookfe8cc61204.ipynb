{
 "cells": [
  {
   "cell_type": "code",
   "execution_count": 1,
   "id": "d5ab31cf",
   "metadata": {
    "_cell_guid": "b1076dfc-b9ad-4769-8c92-a6c4dae69d19",
    "_uuid": "8f2839f25d086af736a60e9eeb907d3b93b6e0e5",
    "execution": {
     "iopub.execute_input": "2022-06-30T17:20:32.435212Z",
     "iopub.status.busy": "2022-06-30T17:20:32.434735Z",
     "iopub.status.idle": "2022-06-30T17:20:36.272510Z",
     "shell.execute_reply": "2022-06-30T17:20:36.271203Z"
    },
    "papermill": {
     "duration": 3.845886,
     "end_time": "2022-06-30T17:20:36.275518",
     "exception": false,
     "start_time": "2022-06-30T17:20:32.429632",
     "status": "completed"
    },
    "tags": []
   },
   "outputs": [],
   "source": [
    "import numpy as np # linear algebra\n",
    "import pandas as pd # data processing, CSV file I/O (e.g. pd.read_csv)\n",
    "data = pd.read_csv('/kaggle/input/digit-recognizer/train.csv')\n",
    "\n",
    "def init_params():\n",
    "    W1 = np.random.uniform(-0.5, 0.5, (20, 784)).astype('float128')\n",
    "    b1 = np.zeros((20,1)).astype('float128')\n",
    "    W2 = np.random.uniform(-0.5, 0.5, (10, 20)).astype('float128')\n",
    "    b2 = np.zeros((10,1)).astype('float128')\n",
    "    return W1, b1, W2, b2\n",
    "\n",
    "def sigmoid(x, deriv=False):\n",
    "    sig = 1/(1 + np.exp(-x))\n",
    "    if(deriv):\n",
    "        return sig*(1-sig)\n",
    "    return sig\n",
    "\n",
    "def forward_prop(W1, b1, W2, b2, x):\n",
    "    Z1=W1.dot(x) + b1\n",
    "    A1=sigmoid(Z1)\n",
    "    Z2=W2.dot(A1) + b2\n",
    "    A2=sigmoid(Z2)\n",
    "    return A1, A2\n",
    "\n",
    "def encode(x):\n",
    "    encoded = np.zeros((1, 10))\n",
    "    encoded[0, x] = 1\n",
    "    return np.transpose(encoded)\n",
    "\n",
    "\n",
    "def back_prop(A1, A2, x, y):\n",
    "    #cost function = 1/10 * sum((A2_i - Y_i)^2)\n",
    "    dA2 = A2 - y\n",
    "    dW2 = dA2.dot(np.transpose(A1))\n",
    "    db2 = dA2\n",
    "    dA1 = np.transpose(dW2).dot(dA2) * sigmoid(A1, deriv=True)\n",
    "    dW1 = dA1.dot(np.transpose(x))\n",
    "    db1 = dA1\n",
    "    return dW1, db1, dW2, db2\n",
    "\n",
    "def update_params(W1, b1, W2, b2, dW1, db1, dW2, db2, alpha):\n",
    "    W1 = W1 - alpha*dW1\n",
    "    W2 = W2 - alpha*dW2\n",
    "    b1 = b1 - alpha*db1\n",
    "    b2 = b2 - alpha*db2\n",
    "    return W1, b1, W2, b2"
   ]
  },
  {
   "cell_type": "code",
   "execution_count": 2,
   "id": "88a73146",
   "metadata": {
    "execution": {
     "iopub.execute_input": "2022-06-30T17:20:36.281893Z",
     "iopub.status.busy": "2022-06-30T17:20:36.281421Z",
     "iopub.status.idle": "2022-06-30T17:20:53.849855Z",
     "shell.execute_reply": "2022-06-30T17:20:53.848269Z"
    },
    "papermill": {
     "duration": 17.574784,
     "end_time": "2022-06-30T17:20:53.852845",
     "exception": false,
     "start_time": "2022-06-30T17:20:36.278061",
     "status": "completed"
    },
    "tags": []
   },
   "outputs": [
    {
     "name": "stderr",
     "output_type": "stream",
     "text": [
      "/opt/conda/lib/python3.7/site-packages/ipykernel_launcher.py:13: RuntimeWarning: overflow encountered in exp\n",
      "  del sys.path[0]\n"
     ]
    }
   ],
   "source": [
    "data = np.array(data)\n",
    "alpha = 0.1\n",
    "x = data[0][1:785]\n",
    "y=encode(data[0][0])\n",
    "x.shape += (1,)\n",
    "W1, b1, W2, b2 = init_params()\n",
    "A1, A2 = forward_prop(W1, b1, W2, b2, x)\n",
    "dW1, db1, dW2, db2 = back_prop(A1, A2, x, y)\n",
    "update_params(W1, b1, W2, b2, dW1, db1, dW2, db2, alpha)\n",
    "\n",
    "def evaluate(x,y):\n",
    "    idx = np.argmax(x, axis=0)[0]\n",
    "    return y[idx][0] == 1\n",
    "\n",
    "def train(data, epochs, alpha):\n",
    "    W1, b1, W2, b2 = init_params()\n",
    "    for i in range(epochs):\n",
    "        for j in range(len(data)-1):\n",
    "            x = data[j][1:785]\n",
    "            x.shape += (1,)\n",
    "            y=encode(data[j][0])\n",
    "            A1, A2 = forward_prop(W1, b1, W2, b2, x)\n",
    "            dW1, db1, dW2, db2 = back_prop(A1, A2, x, y)\n",
    "            W1, b1, W2, b2 = update_params(W1, b1, W2, b2, dW1, db1, dW2, db2, alpha)\n",
    "    return W1, b1, W2, b2\n",
    "\n",
    "a, b, c, d = train(data[0:10000], 5, 0.1)"
   ]
  },
  {
   "cell_type": "code",
   "execution_count": 3,
   "id": "adf7c5f4",
   "metadata": {
    "execution": {
     "iopub.execute_input": "2022-06-30T17:20:53.859315Z",
     "iopub.status.busy": "2022-06-30T17:20:53.858945Z",
     "iopub.status.idle": "2022-06-30T17:20:54.589690Z",
     "shell.execute_reply": "2022-06-30T17:20:54.588798Z"
    },
    "papermill": {
     "duration": 0.737377,
     "end_time": "2022-06-30T17:20:54.592756",
     "exception": false,
     "start_time": "2022-06-30T17:20:53.855379",
     "status": "completed"
    },
    "tags": []
   },
   "outputs": [
    {
     "name": "stderr",
     "output_type": "stream",
     "text": [
      "/opt/conda/lib/python3.7/site-packages/ipykernel_launcher.py:13: RuntimeWarning: overflow encountered in exp\n",
      "  del sys.path[0]\n"
     ]
    },
    {
     "name": "stdout",
     "output_type": "stream",
     "text": [
      "accuracy: 10.39 %\n"
     ]
    }
   ],
   "source": [
    "def test(data, W1, b1, W2, b2):\n",
    "    results = 0\n",
    "    for i in range(len(data)-1):\n",
    "        x = data[i][1:785]\n",
    "        x.shape += (1,)\n",
    "        y=encode(data[i][0])\n",
    "        A1, A2 = forward_prop(W1, b1, W2, b2, x)\n",
    "        res = evaluate(A2, y)\n",
    "        if(res):\n",
    "            results = results + 1\n",
    "    print('accuracy:' , results/len(data) * 100 , \"%\")\n",
    "test(data[0:10000], a, b, c, d)"
   ]
  }
 ],
 "metadata": {
  "kernelspec": {
   "display_name": "Python 3",
   "language": "python",
   "name": "python3"
  },
  "language_info": {
   "codemirror_mode": {
    "name": "ipython",
    "version": 3
   },
   "file_extension": ".py",
   "mimetype": "text/x-python",
   "name": "python",
   "nbconvert_exporter": "python",
   "pygments_lexer": "ipython3",
   "version": "3.7.12"
  },
  "papermill": {
   "default_parameters": {},
   "duration": 33.09935,
   "end_time": "2022-06-30T17:20:55.221067",
   "environment_variables": {},
   "exception": null,
   "input_path": "__notebook__.ipynb",
   "output_path": "__notebook__.ipynb",
   "parameters": {},
   "start_time": "2022-06-30T17:20:22.121717",
   "version": "2.3.4"
  }
 },
 "nbformat": 4,
 "nbformat_minor": 5
}

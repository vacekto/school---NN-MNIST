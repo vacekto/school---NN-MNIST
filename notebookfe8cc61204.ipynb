{
 "cells": [
  {
   "cell_type": "code",
   "execution_count": 1,
   "id": "29b29efa",
   "metadata": {
    "_cell_guid": "b1076dfc-b9ad-4769-8c92-a6c4dae69d19",
    "_uuid": "8f2839f25d086af736a60e9eeb907d3b93b6e0e5",
    "execution": {
     "iopub.execute_input": "2022-07-01T18:25:28.850097Z",
     "iopub.status.busy": "2022-07-01T18:25:28.849458Z",
     "iopub.status.idle": "2022-07-01T18:25:28.881078Z",
     "shell.execute_reply": "2022-07-01T18:25:28.879722Z"
    },
    "papermill": {
     "duration": 0.040713,
     "end_time": "2022-07-01T18:25:28.883943",
     "exception": false,
     "start_time": "2022-07-01T18:25:28.843230",
     "status": "completed"
    },
    "tags": []
   },
   "outputs": [],
   "source": [
    "import numpy as np # linear algebra\n",
    "import pandas as pd # data processing, CSV file I/O (e.g. pd.read_csv)\n",
    "import matplotlib.pyplot as plt\n",
    "\n",
    "def interpret_output(A2):\n",
    "    return np.argmax(A2, axis=0)[0]\n",
    "\n",
    "def encode(y):\n",
    "    encoded = np.zeros((1, 10))\n",
    "    encoded[0, y] = 1\n",
    "    return np.transpose(encoded)\n",
    "\n",
    "def sigmoid(x, deriv=False):\n",
    "    sig = 1/(1 + np.exp(-x))\n",
    "    if(deriv):\n",
    "        return sig*(1-sig)\n",
    "    return sig\n",
    "\n",
    "\n",
    "def init_params():\n",
    "    W1 = np.random.uniform(-0.5, 0.5, (128, 784)).astype('float128')\n",
    "    b1 = np.zeros((128,1)).astype('float128')\n",
    "    W2 = np.random.uniform(-0.5, 0.5, (64, 128)).astype('float128')\n",
    "    b2 = np.zeros((64,1)).astype('float128')\n",
    "    W3 = np.random.uniform(-0.5, 0.5, (10, 64)).astype('float128')\n",
    "    b3 = np.zeros((10,1)).astype('float128')\n",
    "    return W1, b1, W2, b2, W3, b3\n",
    "\n",
    "def forward_prop(W1, b1, W2, b2, W3, b3, A0):\n",
    "    Z1=W1.dot(A0) + b1\n",
    "    A1=sigmoid(Z1)\n",
    "    Z2=W2.dot(A1) + b2\n",
    "    A2=sigmoid(Z2)\n",
    "    Z3=W3.dot(A2) + b3\n",
    "    A3=sigmoid(Z3)\n",
    "    return A1, Z1, A2, Z2, A3, Z3\n",
    "\n",
    "def back_prop(A1, Z1, A2, Z2, A3, Z3, A0, y):\n",
    "    #cost function = 1/2 * sum((A2_i - Y_i)^2)\n",
    "    dZ3 = (A3 - encode(y))*sigmoid(Z3, deriv=True)\n",
    "    dW3 = dZ3.dot(np.transpose(A2))\n",
    "    db3 = dZ3\n",
    "    dZ2 = np.transpose(dW3).dot(dZ3) * sigmoid(Z2, deriv=True)\n",
    "    dW2 = dZ2.dot(np.transpose(A1))\n",
    "    db2 = dZ2\n",
    "    dZ1 = np.transpose(dW2).dot(dZ2) * sigmoid(Z1, deriv=True)\n",
    "    dW1 = dZ1.dot(np.transpose(A0))\n",
    "    db1 = dZ1\n",
    "    return dW1, db1, dW2, db2, dW3, db3\n",
    "\n",
    "def update_params(W1, b1, W2, b2, W3, b3, dW1, db1, dW2, db2, dW3, db3, alpha):\n",
    "    W1 = W1 - alpha*dW1\n",
    "    W2 = W2 - alpha*dW2\n",
    "    W3 = W3 - alpha*dW3\n",
    "    b1 = b1 - alpha*db1\n",
    "    b2 = b2 - alpha*db2\n",
    "    b3 = b3 - alpha*db3 \n",
    "    return W1, b1, W2, b2, W3, b3"
   ]
  },
  {
   "cell_type": "code",
   "execution_count": 2,
   "id": "4422b7cc",
   "metadata": {
    "execution": {
     "iopub.execute_input": "2022-07-01T18:25:28.891290Z",
     "iopub.status.busy": "2022-07-01T18:25:28.890885Z",
     "iopub.status.idle": "2022-07-01T18:25:33.263602Z",
     "shell.execute_reply": "2022-07-01T18:25:33.262393Z"
    },
    "papermill": {
     "duration": 4.379928,
     "end_time": "2022-07-01T18:25:33.266769",
     "exception": false,
     "start_time": "2022-07-01T18:25:28.886841",
     "status": "completed"
    },
    "tags": []
   },
   "outputs": [],
   "source": [
    "data = pd.read_csv('/kaggle/input/digit-recognizer/train.csv')\n",
    "data = np.array(data)\n"
   ]
  },
  {
   "cell_type": "code",
   "execution_count": 3,
   "id": "30f79c09",
   "metadata": {
    "execution": {
     "iopub.execute_input": "2022-07-01T18:25:33.274291Z",
     "iopub.status.busy": "2022-07-01T18:25:33.273888Z",
     "iopub.status.idle": "2022-07-01T18:28:59.532474Z",
     "shell.execute_reply": "2022-07-01T18:28:59.531089Z"
    },
    "papermill": {
     "duration": 206.265827,
     "end_time": "2022-07-01T18:28:59.535656",
     "exception": false,
     "start_time": "2022-07-01T18:25:33.269829",
     "status": "completed"
    },
    "tags": []
   },
   "outputs": [],
   "source": [
    "def train(data, epochs, alpha):\n",
    "    W1, b1, W2, b2, W3, b3 = init_params()\n",
    "    for i in range(epochs):\n",
    "        for j in range(len(data)-1):\n",
    "            A0 = data[j][1:785]\n",
    "            A0.shape += (1,)\n",
    "            y = data[j][0]\n",
    "            A1, Z1, A2, Z2, A3, Z3 = forward_prop(W1, b1, W2, b2, W3, b3, A0)\n",
    "            dW1, db1, dW2, db2, dW3, db3 = back_prop(A1, Z1, A2, Z2, A3, Z3, A0, y)\n",
    "            W1, b1, W2, b2, W3, b3 = update_params(W1, b1, W2, b2, W3, b3, dW1, db1, dW2, db2, dW3, db3, alpha)\n",
    "    return W1, b1, W2, b2, W3, b3\n",
    "\n",
    "a, b, c, d, e, f = train(data[0:1000], 100, 0.05)"
   ]
  },
  {
   "cell_type": "code",
   "execution_count": 4,
   "id": "e232ddab",
   "metadata": {
    "execution": {
     "iopub.execute_input": "2022-07-01T18:28:59.543408Z",
     "iopub.status.busy": "2022-07-01T18:28:59.542966Z",
     "iopub.status.idle": "2022-07-01T18:28:59.801391Z",
     "shell.execute_reply": "2022-07-01T18:28:59.799997Z"
    },
    "papermill": {
     "duration": 0.266806,
     "end_time": "2022-07-01T18:28:59.805579",
     "exception": false,
     "start_time": "2022-07-01T18:28:59.538773",
     "status": "completed"
    },
    "tags": []
   },
   "outputs": [
    {
     "name": "stdout",
     "output_type": "stream",
     "text": [
      "accuracy: 24.7 %\n"
     ]
    }
   ],
   "source": [
    "def test(data, W1, b1, W2, b2, W3, b3):\n",
    "    results = 0\n",
    "    for i in range(len(data)-1):\n",
    "        A0 = data[i][1:785]\n",
    "        A0.shape += (1,)\n",
    "        y = data[i][0]\n",
    "        A1, Z1, A2, Z2, A3, Z3 = forward_prop(W1, b1, W2, b2, W3, b3, A0)\n",
    "        res = interpret_output(A3) == y\n",
    "        if(res):\n",
    "            results = results + 1\n",
    "    print('accuracy:', results/len(data) * 100 , \"%\")\n",
    "test(data[1000:2000], a, b, c, d, e, f)"
   ]
  },
  {
   "cell_type": "code",
   "execution_count": 5,
   "id": "8b62c48f",
   "metadata": {
    "execution": {
     "iopub.execute_input": "2022-07-01T18:28:59.812556Z",
     "iopub.status.busy": "2022-07-01T18:28:59.812125Z",
     "iopub.status.idle": "2022-07-01T18:29:00.035774Z",
     "shell.execute_reply": "2022-07-01T18:29:00.034597Z"
    },
    "papermill": {
     "duration": 0.230312,
     "end_time": "2022-07-01T18:29:00.038570",
     "exception": false,
     "start_time": "2022-07-01T18:28:59.808258",
     "status": "completed"
    },
    "tags": []
   },
   "outputs": [
    {
     "data": {
      "image/png": "[encoded data removed]",
      "text/plain": [
       "<Figure size 432x288 with 1 Axes>"
      ]
     },
     "metadata": {
      "needs_background": "light"
     },
     "output_type": "display_data"
    },
    {
     "name": "stdout",
     "output_type": "stream",
     "text": [
      "2\n"
     ]
    }
   ],
   "source": [
    "def test_prediction(W1, b1, W2, b2, W3, b3, A0, y):\n",
    "    A1, Z1, A2, Z2, A3, Z3 = forward_prop(W1, b1, W2, b2, W3, b3, A0)\n",
    "    img = A0.reshape((28,28)) * 255\n",
    "    plt.imshow(img, interpolation = \"nearest\")\n",
    "    plt.show()\n",
    "    res = interpret_output(A3)\n",
    "    print(res)\n",
    "    \n",
    "i=104\n",
    "test_prediction(a, b, c, d, e, f, data[i][1:785], data[i][0])\n"
   ]
  }
 ],
 "metadata": {
  "kernelspec": {
   "display_name": "Python 3",
   "language": "python",
   "name": "python3"
  },
  "language_info": {
   "codemirror_mode": {
    "name": "ipython",
    "version": 3
   },
   "file_extension": ".py",
   "mimetype": "text/x-python",
   "name": "python",
   "nbconvert_exporter": "python",
   "pygments_lexer": "ipython3",
   "version": "3.7.12"
  },
  "papermill": {
   "default_parameters": {},
   "duration": 223.62283,
   "end_time": "2022-07-01T18:29:00.763607",
   "environment_variables": {},
   "exception": null,
   "input_path": "__notebook__.ipynb",
   "output_path": "__notebook__.ipynb",
   "parameters": {},
   "start_time": "2022-07-01T18:25:17.140777",
   "version": "2.3.4"
  }
 },
 "nbformat": 4,
 "nbformat_minor": 5
}

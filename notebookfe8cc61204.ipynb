{
 "cells": [
  {
   "cell_type": "code",
   "execution_count": 1,
   "id": "a95c19ed",
   "metadata": {
    "_cell_guid": "b1076dfc-b9ad-4769-8c92-a6c4dae69d19",
    "_uuid": "8f2839f25d086af736a60e9eeb907d3b93b6e0e5",
    "execution": {
     "iopub.execute_input": "2022-07-01T16:22:26.438941Z",
     "iopub.status.busy": "2022-07-01T16:22:26.438400Z",
     "iopub.status.idle": "2022-07-01T16:22:26.463067Z",
     "shell.execute_reply": "2022-07-01T16:22:26.461740Z"
    },
    "papermill": {
     "duration": 0.034163,
     "end_time": "2022-07-01T16:22:26.466601",
     "exception": false,
     "start_time": "2022-07-01T16:22:26.432438",
     "status": "completed"
    },
    "tags": []
   },
   "outputs": [],
   "source": [
    "import numpy as np # linear algebra\n",
    "import pandas as pd # data processing, CSV file I/O (e.g. pd.read_csv)\n",
    "import matplotlib.pyplot as plt\n",
    "\n",
    "def interpret_output(A2):\n",
    "    return np.argmax(A2, axis=0)[0]\n",
    "\n",
    "def encode(y):\n",
    "    encoded = np.zeros((1, 10))\n",
    "    encoded[0, y] = 1\n",
    "    return np.transpose(encoded)\n",
    "\n",
    "def sigmoid(x, deriv=False):\n",
    "    sig = 1/(1 + np.exp(-x))\n",
    "    if(deriv):\n",
    "        return sig*(1-sig)\n",
    "    return sig\n",
    "\n",
    "\n",
    "def init_params():\n",
    "    W1 = np.random.uniform(-0.5, 0.5, (30, 784)).astype('float128')\n",
    "    b1 = np.zeros((30,1)).astype('float128')\n",
    "    W2 = np.random.uniform(-0.5, 0.5, (10, 30)).astype('float128')\n",
    "    b2 = np.zeros((10,1)).astype('float128')\n",
    "    return W1, b1, W2, b2\n",
    "\n",
    "def forward_prop(W1, b1, W2, b2, A0):\n",
    "    Z1=W1.dot(A0) + b1\n",
    "    A1=sigmoid(Z1)\n",
    "    Z2=W2.dot(A1) + b2\n",
    "    A2=sigmoid(Z2)\n",
    "    return A1, Z1, A2, Z2\n",
    "\n",
    "def back_prop(A1, Z1, A2, Z2, A0, y):\n",
    "    #cost function = 1/2 * sum((A2_i - Y_i)^2)\n",
    "    dZ2 = (A2 - encode(y))*sigmoid(Z2, deriv=True)\n",
    "    dW2 = dZ2.dot(np.transpose(A1))\n",
    "    db2 = dZ2\n",
    "    dZ1 = np.transpose(dW2).dot(dZ2) * sigmoid(Z1, deriv=True)\n",
    "    dW1 = dZ1.dot(np.transpose(A0))\n",
    "    db1 = dZ1\n",
    "    return dW1, db1, dW2, db2\n",
    "\n",
    "def update_params(W1, b1, W2, b2, dW1, db1, dW2, db2, alpha):\n",
    "    W1 = W1 - alpha*dW1\n",
    "    W2 = W2 - alpha*dW2\n",
    "    b1 = b1 - alpha*db1\n",
    "    b2 = b2 - alpha*db2\n",
    "    return W1, b1, W2, b2"
   ]
  },
  {
   "cell_type": "code",
   "execution_count": 2,
   "id": "a493b589",
   "metadata": {
    "execution": {
     "iopub.execute_input": "2022-07-01T16:22:26.474456Z",
     "iopub.status.busy": "2022-07-01T16:22:26.474008Z",
     "iopub.status.idle": "2022-07-01T16:22:30.634766Z",
     "shell.execute_reply": "2022-07-01T16:22:30.633526Z"
    },
    "papermill": {
     "duration": 4.168307,
     "end_time": "2022-07-01T16:22:30.638021",
     "exception": false,
     "start_time": "2022-07-01T16:22:26.469714",
     "status": "completed"
    },
    "tags": []
   },
   "outputs": [],
   "source": [
    "data = pd.read_csv('/kaggle/input/digit-recognizer/train.csv')\n",
    "data = np.array(data)\n"
   ]
  },
  {
   "cell_type": "code",
   "execution_count": 3,
   "id": "ef3e9ed2",
   "metadata": {
    "execution": {
     "iopub.execute_input": "2022-07-01T16:22:30.645666Z",
     "iopub.status.busy": "2022-07-01T16:22:30.645243Z",
     "iopub.status.idle": "2022-07-01T16:22:54.391847Z",
     "shell.execute_reply": "2022-07-01T16:22:54.390872Z"
    },
    "papermill": {
     "duration": 23.75373,
     "end_time": "2022-07-01T16:22:54.394675",
     "exception": false,
     "start_time": "2022-07-01T16:22:30.640945",
     "status": "completed"
    },
    "tags": []
   },
   "outputs": [],
   "source": [
    "def train(data, epochs, alpha):\n",
    "    W1, b1, W2, b2 = init_params()\n",
    "    for i in range(epochs):\n",
    "        for j in range(len(data)-1):\n",
    "            A0 = data[j][1:785]\n",
    "            A0.shape += (1,)\n",
    "            y = data[j][0]\n",
    "            A1, Z1, A2, Z2 = forward_prop(W1, b1, W2, b2, A0)\n",
    "            dW1, db1, dW2, db2 = back_prop(A1, Z1, A2, Z2, A0, y)\n",
    "            W1, b1, W2, b2 = update_params(W1, b1, W2, b2, dW1, db1, dW2, db2, alpha)\n",
    "    return W1, b1, W2, b2\n",
    "\n",
    "a, b, c, d = train(data[0:1000], 50, 0.1)"
   ]
  },
  {
   "cell_type": "code",
   "execution_count": 4,
   "id": "9802ae5b",
   "metadata": {
    "execution": {
     "iopub.execute_input": "2022-07-01T16:22:54.402617Z",
     "iopub.status.busy": "2022-07-01T16:22:54.402012Z",
     "iopub.status.idle": "2022-07-01T16:22:54.478987Z",
     "shell.execute_reply": "2022-07-01T16:22:54.477441Z"
    },
    "papermill": {
     "duration": 0.084951,
     "end_time": "2022-07-01T16:22:54.482587",
     "exception": false,
     "start_time": "2022-07-01T16:22:54.397636",
     "status": "completed"
    },
    "tags": []
   },
   "outputs": [
    {
     "name": "stdout",
     "output_type": "stream",
     "text": [
      "accuracy: 30.3 %\n"
     ]
    }
   ],
   "source": [
    "def test(data, W1, b1, W2, b2):\n",
    "    results = 0\n",
    "    for i in range(len(data)-1):\n",
    "        A0 = data[i][1:785]\n",
    "        A0.shape += (1,)\n",
    "        y = data[i][0]\n",
    "        A1, Z1, A2, Z2 = forward_prop(W1, b1, W2, b2, A0)\n",
    "        res = interpret_output(A2) == y\n",
    "        if(res):\n",
    "            results = results + 1\n",
    "    print('accuracy:' , results/len(data) * 100 , \"%\")\n",
    "test(data[0:1000], a, b, c, d)"
   ]
  },
  {
   "cell_type": "code",
   "execution_count": 5,
   "id": "ca6f4072",
   "metadata": {
    "execution": {
     "iopub.execute_input": "2022-07-01T16:22:54.491688Z",
     "iopub.status.busy": "2022-07-01T16:22:54.490623Z",
     "iopub.status.idle": "2022-07-01T16:22:54.676045Z",
     "shell.execute_reply": "2022-07-01T16:22:54.674612Z"
    },
    "papermill": {
     "duration": 0.192709,
     "end_time": "2022-07-01T16:22:54.679007",
     "exception": false,
     "start_time": "2022-07-01T16:22:54.486298",
     "status": "completed"
    },
    "tags": []
   },
   "outputs": [
    {
     "data": {
      "image/png": "[encoded data removed]",
      "text/plain": [
       "<Figure size 432x288 with 1 Axes>"
      ]
     },
     "metadata": {
      "needs_background": "light"
     },
     "output_type": "display_data"
    },
    {
     "name": "stdout",
     "output_type": "stream",
     "text": [
      "2\n",
      "[[ 0.29408424  0.19586958  0.06635228 ...  0.01131454 -0.18419358\n",
      "   0.14629176]\n",
      " [ 0.3525013  -0.20874951  0.4454082  ... -0.01104833  0.07177061\n",
      "   0.36590366]\n",
      " [ 0.11343828  0.48099572  0.3112242  ...  0.05722818  0.26760646\n",
      "   0.02831879]\n",
      " ...\n",
      " [-0.40840099  0.23103503 -0.38007546 ... -0.42236479  0.17528711\n",
      "  -0.16941272]\n",
      " [-0.31151854 -0.39898136 -0.25782905 ... -0.24654154  0.49349296\n",
      "   0.03876829]\n",
      " [-0.20288078 -0.11249857 -0.0708776  ...  0.05830508  0.49221807\n",
      "   0.49005204]]\n"
     ]
    }
   ],
   "source": [
    "def test_prediction(W1, b1, W2, b2, A0, y):\n",
    "    A1, Z1, A2, Z2 = forward_prop(W1, b1, W2, b2, A0)\n",
    "    img = A0.reshape((28,28)) * 255\n",
    "    plt.imshow(img, interpolation = \"nearest\")\n",
    "    plt.show()\n",
    "    res = interpret_output(A2)\n",
    "    print(res)\n",
    "    \n",
    "i=101\n",
    "test_prediction(a, b, c, d, data[i][1:785], data[i][0])\n",
    "print(a)"
   ]
  }
 ],
 "metadata": {
  "kernelspec": {
   "display_name": "Python 3",
   "language": "python",
   "name": "python3"
  },
  "language_info": {
   "codemirror_mode": {
    "name": "ipython",
    "version": 3
   },
   "file_extension": ".py",
   "mimetype": "text/x-python",
   "name": "python",
   "nbconvert_exporter": "python",
   "pygments_lexer": "ipython3",
   "version": "3.7.12"
  },
  "papermill": {
   "default_parameters": {},
   "duration": 40.509623,
   "end_time": "2022-07-01T16:22:55.508182",
   "environment_variables": {},
   "exception": null,
   "input_path": "__notebook__.ipynb",
   "output_path": "__notebook__.ipynb",
   "parameters": {},
   "start_time": "2022-07-01T16:22:14.998559",
   "version": "2.3.4"
  }
 },
 "nbformat": 4,
 "nbformat_minor": 5
}

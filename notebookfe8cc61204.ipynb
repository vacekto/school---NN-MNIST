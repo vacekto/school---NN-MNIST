{
 "cells": [
  {
   "cell_type": "code",
   "execution_count": 1,
   "id": "19b3ab59",
   "metadata": {
    "_cell_guid": "b1076dfc-b9ad-4769-8c92-a6c4dae69d19",
    "_uuid": "8f2839f25d086af736a60e9eeb907d3b93b6e0e5",
    "execution": {
     "iopub.execute_input": "2022-07-04T11:46:37.833887Z",
     "iopub.status.busy": "2022-07-04T11:46:37.833486Z",
     "iopub.status.idle": "2022-07-04T11:46:37.854875Z",
     "shell.execute_reply": "2022-07-04T11:46:37.854008Z"
    },
    "papermill": {
     "duration": 0.028223,
     "end_time": "2022-07-04T11:46:37.857006",
     "exception": false,
     "start_time": "2022-07-04T11:46:37.828783",
     "status": "completed"
    },
    "tags": []
   },
   "outputs": [],
   "source": [
    "import numpy as np # linear algebra\n",
    "import pandas as pd # data processing, CSV file I/O (e.g. pd.read_csv)\n",
    "import matplotlib.pyplot as plt\n",
    "\n",
    "def arr(arr):\n",
    "    return np.array(arr)\n",
    "\n",
    "def interpret_output(A2):\n",
    "    return np.argmax(A2, axis=0)[0]\n",
    "\n",
    "def encode(y):\n",
    "    encoded = np.zeros((y.size, 10))\n",
    "    encoded[np.arange(y.size),y] = 1\n",
    "    return np.transpose(encoded)\n",
    "\n",
    "def sigmoid(x, deriv=False):\n",
    "    sig = 1/(1 + np.exp(-x))\n",
    "    if(deriv):\n",
    "        return sig*(1-sig)\n",
    "    return sig\n",
    "\n",
    "\n",
    "def init_params():\n",
    "    W1 = np.random.uniform(-0.5, 0.5, (128, 784)).astype('float128')\n",
    "    b1 = np.random.uniform(-0.5, 0.5, (128, 1)).astype('float128')\n",
    "    W2 = np.random.uniform(-0.5, 0.5, (64, 128)).astype('float128')\n",
    "    b2 = np.random.uniform(-0.5, 0.5, (64, 1)).astype('float128')\n",
    "    W3 = np.random.uniform(-0.5, 0.5, (10, 64)).astype('float128')\n",
    "    b3 = np.random.uniform(-0.5, 0.5, (10, 1)).astype('float128')\n",
    "    return W1, b1, W2, b2, W3, b3\n",
    "\n",
    "def forward_prop(W1, b1, W2, b2, W3, b3, A0):\n",
    "    Z1=W1.dot(A0) + b1\n",
    "    A1=sigmoid(Z1)\n",
    "    Z2=W2.dot(A1) + b2\n",
    "    A2=sigmoid(Z2)\n",
    "    Z3=W3.dot(A2) + b3\n",
    "    A3=sigmoid(Z3)\n",
    "    return A1, Z1, A2, Z2, A3, Z3\n",
    "\n",
    "def back_prop(A1, Z1, A2, Z2, A3, Z3, A0, y):\n",
    "    #cost function = 1/2 * sum((A2_i - Y_i)^2)\n",
    "    Y=encode(y)\n",
    "    m = np.size(Y,1)\n",
    "    dZ3 = (A3 - Y)*sigmoid(Z3, deriv=True)\n",
    "    dW3 = 1/m * dZ3.dot(np.transpose(A2))\n",
    "    db3 = 1/m * dZ3.sum(axis=0)\n",
    "    dZ2 = np.transpose(dW3).dot(dZ3) * sigmoid(Z2, deriv=True)\n",
    "    dW2 = 1/m * dZ2.dot(np.transpose(A1))\n",
    "    db2 = 1/m * dZ2.sum(axis=0)\n",
    "    dZ1 = np.transpose(dW2).dot(dZ2) * sigmoid(Z1, deriv=True)\n",
    "    dW1 = 1/m * dZ1.dot(np.transpose(A0))\n",
    "    db1 = 1/m * dZ1.sum(axis=0)\n",
    "    return dW1, db1, dW2, db2, dW3, db3\n",
    "\n",
    "def update_params(W1, b1, W2, b2, W3, b3, dW1, db1, dW2, db2, dW3, db3, alpha):\n",
    "    W1 = W1 - alpha*dW1\n",
    "    W2 = W2 - alpha*dW2\n",
    "    W3 = W3 - alpha*dW3\n",
    "    b1 = b1 - alpha*db1\n",
    "    b2 = b2 - alpha*db2\n",
    "    b3 = b3 - alpha*db3 \n",
    "    return W1, b1, W2, b2, W3, b3"
   ]
  },
  {
   "cell_type": "code",
   "execution_count": 2,
   "id": "fba4c017",
   "metadata": {
    "execution": {
     "iopub.execute_input": "2022-07-04T11:46:37.862590Z",
     "iopub.status.busy": "2022-07-04T11:46:37.862282Z",
     "iopub.status.idle": "2022-07-04T11:46:40.946070Z",
     "shell.execute_reply": "2022-07-04T11:46:40.945159Z"
    },
    "papermill": {
     "duration": 3.08926,
     "end_time": "2022-07-04T11:46:40.948692",
     "exception": false,
     "start_time": "2022-07-04T11:46:37.859432",
     "status": "completed"
    },
    "tags": []
   },
   "outputs": [],
   "source": [
    "data = pd.read_csv('/kaggle/input/digit-recognizer/train.csv')\n",
    "data = np.array(data)\n"
   ]
  },
  {
   "cell_type": "code",
   "execution_count": 3,
   "id": "7c848658",
   "metadata": {
    "execution": {
     "iopub.execute_input": "2022-07-04T11:46:40.954418Z",
     "iopub.status.busy": "2022-07-04T11:46:40.954039Z",
     "iopub.status.idle": "2022-07-04T11:46:50.518213Z",
     "shell.execute_reply": "2022-07-04T11:46:50.517204Z"
    },
    "papermill": {
     "duration": 9.56991,
     "end_time": "2022-07-04T11:46:50.520716",
     "exception": false,
     "start_time": "2022-07-04T11:46:40.950806",
     "status": "completed"
    },
    "tags": []
   },
   "outputs": [
    {
     "name": "stdout",
     "output_type": "stream",
     "text": [
      "(1000, 784)\n"
     ]
    }
   ],
   "source": [
    "def train(data, epochs, batch_size, l_rate):\n",
    "    W1, b1, W2, b2, W3, b3 = init_params()\n",
    "    num_of_batches = int(np.floor(len(data)/batch_size))\n",
    "    A0=data[0: 1000, 1:785]\n",
    "    print(A0.shape)\n",
    "    for i in range(epochs):\n",
    "        \n",
    "        for j in range(num_of_batches):\n",
    "            \n",
    "            A0=data[i*batch_size: (i+1)*batch_size, 1:785].T\n",
    "            y = data[i*batch_size: (i+1)*batch_size, 0]\n",
    "            A1, Z1, A2, Z2, A3, Z3 = forward_prop(W1, b1, W2, b2, W3, b3, A0)\n",
    "            dW1, db1, dW2, db2, dW3, db3 = back_prop(A1, Z1, A2, Z2, A3, Z3, A0, y)\n",
    "            W1, b1, W2, b2, W3, b3 = update_params(W1, b1, W2, b2, W3, b3, dW1, db1, dW2, db2, dW3, db3, l_rate)\n",
    "    return W1, b1, W2, b2, W3, b3\n",
    "\n",
    "data_train = data[0:10000]\n",
    "a, b, c, d, e, f = train(data_train, 2, 100, 0.1)"
   ]
  },
  {
   "cell_type": "code",
   "execution_count": 4,
   "id": "253209f5",
   "metadata": {
    "execution": {
     "iopub.execute_input": "2022-07-04T11:46:50.526945Z",
     "iopub.status.busy": "2022-07-04T11:46:50.526107Z",
     "iopub.status.idle": "2022-07-04T11:48:48.183894Z",
     "shell.execute_reply": "2022-07-04T11:48:48.182919Z"
    },
    "papermill": {
     "duration": 117.663774,
     "end_time": "2022-07-04T11:48:48.186717",
     "exception": false,
     "start_time": "2022-07-04T11:46:50.522943",
     "status": "completed"
    },
    "tags": []
   },
   "outputs": [],
   "source": [
    "def train(data, epochs, l_rate):\n",
    "    W1, b1, W2, b2, W3, b3 = init_params()    \n",
    "    for i in range(epochs):\n",
    "        for j in range(len(data)-1):\n",
    "            A0 = data[j][1:785]\n",
    "            A0.shape += (1,)\n",
    "            y = data[j][0]\n",
    "            A1, Z1, A2, Z2, A3, Z3 = forward_prop(W1, b1, W2, b2, W3, b3, A0)\n",
    "            dW1, db1, dW2, db2, dW3, db3 = back_prop(A1, Z1, A2, Z2, A3, Z3, A0, y)\n",
    "            W1, b1, W2, b2, W3, b3 = update_params(W1, b1, W2, b2, W3, b3, dW1, db1, dW2, db2, dW3, db3, l_rate)\n",
    "    return W1, b1, W2, b2, W3, b3\n",
    "\n",
    "\n",
    "data_train = data[0:100]\n",
    "a, b, c, d, e, f = train(data_train, 500, 0.1)"
   ]
  },
  {
   "cell_type": "code",
   "execution_count": 5,
   "id": "07452e38",
   "metadata": {
    "execution": {
     "iopub.execute_input": "2022-07-04T11:48:48.193307Z",
     "iopub.status.busy": "2022-07-04T11:48:48.192580Z",
     "iopub.status.idle": "2022-07-04T11:48:48.428843Z",
     "shell.execute_reply": "2022-07-04T11:48:48.427632Z"
    },
    "papermill": {
     "duration": 0.241847,
     "end_time": "2022-07-04T11:48:48.431009",
     "exception": false,
     "start_time": "2022-07-04T11:48:48.189162",
     "status": "completed"
    },
    "tags": []
   },
   "outputs": [
    {
     "name": "stdout",
     "output_type": "stream",
     "text": [
      "accuracy: 16.6 %\n"
     ]
    }
   ],
   "source": [
    "data_test = data[0:1000]\n",
    "def test(data, W1, b1, W2, b2, W3, b3):\n",
    "    results = 0\n",
    "    for i in range(len(data)-1):\n",
    "        A0 = data[i][1:785]\n",
    "        A0.shape += (1,)\n",
    "        y = data[i][0]\n",
    "        A1, Z1, A2, Z2, A3, Z3 = forward_prop(W1, b1, W2, b2, W3, b3, A0)\n",
    "        res = interpret_output(A3) == y\n",
    "        if(res):\n",
    "            results = results + 1\n",
    "    print('accuracy:', results/len(data) * 100 , \"%\")\n",
    "test(data_test, a, b, c, d, e, f)"
   ]
  }
 ],
 "metadata": {
  "kernelspec": {
   "display_name": "Python 3",
   "language": "python",
   "name": "python3"
  },
  "language_info": {
   "codemirror_mode": {
    "name": "ipython",
    "version": 3
   },
   "file_extension": ".py",
   "mimetype": "text/x-python",
   "name": "python",
   "nbconvert_exporter": "python",
   "pygments_lexer": "ipython3",
   "version": "3.7.12"
  },
  "papermill": {
   "default_parameters": {},
   "duration": 139.368845,
   "end_time": "2022-07-04T11:48:49.053041",
   "environment_variables": {},
   "exception": null,
   "input_path": "__notebook__.ipynb",
   "output_path": "__notebook__.ipynb",
   "parameters": {},
   "start_time": "2022-07-04T11:46:29.684196",
   "version": "2.3.4"
  }
 },
 "nbformat": 4,
 "nbformat_minor": 5
}

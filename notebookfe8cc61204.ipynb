{
 "cells": [
  {
   "cell_type": "code",
   "execution_count": 1,
   "id": "b691b21e",
   "metadata": {
    "_cell_guid": "b1076dfc-b9ad-4769-8c92-a6c4dae69d19",
    "_uuid": "8f2839f25d086af736a60e9eeb907d3b93b6e0e5",
    "execution": {
     "iopub.execute_input": "2022-07-04T16:45:52.851563Z",
     "iopub.status.busy": "2022-07-04T16:45:52.850929Z",
     "iopub.status.idle": "2022-07-04T16:45:56.704465Z",
     "shell.execute_reply": "2022-07-04T16:45:56.703144Z"
    },
    "papermill": {
     "duration": 3.862508,
     "end_time": "2022-07-04T16:45:56.707624",
     "exception": false,
     "start_time": "2022-07-04T16:45:52.845116",
     "status": "completed"
    },
    "tags": []
   },
   "outputs": [],
   "source": [
    "import numpy as np # linear algebra\n",
    "import pandas as pd # data processing, CSV file I/O (e.g. pd.read_csv)\n",
    "import matplotlib.pyplot as plt\n",
    "\n",
    "data = pd.read_csv('/kaggle/input/digit-recognizer/train.csv')\n",
    "data = np.array(data)\n",
    "\n",
    "def interpret_output(A2):\n",
    "    return np.argmax(A2, axis=0)[0]\n",
    "\n",
    "def encode(y):\n",
    "    encoded = np.zeros((1, 10))\n",
    "    encoded[0, y] = 1\n",
    "    return np.transpose(encoded)\n",
    "\n",
    "def sigmoid(x, deriv=False):\n",
    "    sig = 1/(1 + np.exp(-x))\n",
    "    if(deriv):\n",
    "        return sig*(1-sig)\n",
    "    return sig\n",
    "\n",
    "\n",
    "def init_params():\n",
    "    W1 = np.random.uniform(-0.5, 0.5, (30, 784)).astype('float128')\n",
    "    b1 = np.zeros((30,1)).astype('float128')\n",
    "    W2 = np.random.uniform(-0.5, 0.5, (10, 30)).astype('float128')\n",
    "    b2 = np.zeros((10,1)).astype('float128')\n",
    "    return W1, b1, W2, b2\n",
    "\n",
    "def forward_prop(W1, b1, W2, b2, A0):\n",
    "    Z1=W1.dot(A0) + b1\n",
    "    A1=sigmoid(Z1)\n",
    "    Z2=W2.dot(A1) + b2\n",
    "    A2=sigmoid(Z2)\n",
    "    return A1, Z1, A2, Z2\n",
    "\n",
    "def back_prop(A1, Z1, A2, Z2, A0, y):\n",
    "    #cost function = 1/2 * sum((A2_i - Y_i)^2)\n",
    "    dZ2 = (A2 - encode(y))*sigmoid(Z2, deriv=True)\n",
    "    dW2 = dZ2.dot(np.transpose(A1))\n",
    "    db2 = dZ2\n",
    "    dZ1 = np.transpose(dW2).dot(dZ2) * sigmoid(Z1, deriv=True)\n",
    "    dW1 = dZ1.dot(np.transpose(A0))\n",
    "    db1 = dZ1\n",
    "    return dW1, db1, dW2, db2\n",
    "\n",
    "def update_params(W1, b1, W2, b2, dW1, db1, dW2, db2, alpha):\n",
    "    W1 = W1 - alpha*dW1\n",
    "    W2 = W2 - alpha*dW2\n",
    "    b1 = b1 - alpha*db1\n",
    "    b2 = b2 - alpha*db2\n",
    "    return W1, b1, W2, b2"
   ]
  },
  {
   "cell_type": "code",
   "execution_count": 2,
   "id": "3b1f86a9",
   "metadata": {
    "execution": {
     "iopub.execute_input": "2022-07-04T16:45:56.714003Z",
     "iopub.status.busy": "2022-07-04T16:45:56.713611Z",
     "iopub.status.idle": "2022-07-04T17:09:48.300866Z",
     "shell.execute_reply": "2022-07-04T17:09:48.299541Z"
    },
    "papermill": {
     "duration": 1431.59358,
     "end_time": "2022-07-04T17:09:48.303678",
     "exception": false,
     "start_time": "2022-07-04T16:45:56.710098",
     "status": "completed"
    },
    "tags": []
   },
   "outputs": [],
   "source": [
    "def train(data, epochs, alpha):\n",
    "    W1, b1, W2, b2 = init_params()\n",
    "    for i in range(epochs):\n",
    "        for j in range(len(data)-1):\n",
    "            A0 = data[j][1:785]\n",
    "            A0.shape += (1,)\n",
    "            y = data[j][0]\n",
    "            A1, Z1, A2, Z2 = forward_prop(W1, b1, W2, b2, A0)\n",
    "            dW1, db1, dW2, db2 = back_prop(A1, Z1, A2, Z2, A0, y)\n",
    "            W1, b1, W2, b2 = update_params(W1, b1, W2, b2, dW1, db1, dW2, db2, alpha)\n",
    "    return W1, b1, W2, b2\n",
    "\n",
    "a, b, c, d = train(data[0:300], 10000, 0.01)"
   ]
  },
  {
   "cell_type": "code",
   "execution_count": 3,
   "id": "f7b8007b",
   "metadata": {
    "execution": {
     "iopub.execute_input": "2022-07-04T17:09:48.310639Z",
     "iopub.status.busy": "2022-07-04T17:09:48.309981Z",
     "iopub.status.idle": "2022-07-04T17:09:51.127323Z",
     "shell.execute_reply": "2022-07-04T17:09:51.126406Z"
    },
    "papermill": {
     "duration": 2.824851,
     "end_time": "2022-07-04T17:09:51.131147",
     "exception": false,
     "start_time": "2022-07-04T17:09:48.306296",
     "status": "completed"
    },
    "tags": []
   },
   "outputs": [
    {
     "name": "stdout",
     "output_type": "stream",
     "text": [
      "accuracy: 41.06341463414634 %\n"
     ]
    }
   ],
   "source": [
    "def test(data, W1, b1, W2, b2):\n",
    "    results = 0\n",
    "    for i in range(len(data)):\n",
    "        A0 = data[i][1:785]\n",
    "        A0.shape += (1,)\n",
    "        y = data[i][0]\n",
    "        A1, Z1, A2, Z2 = forward_prop(W1, b1, W2, b2, A0)\n",
    "        res = interpret_output(A2) == y\n",
    "        if(res):\n",
    "            results = results + 1\n",
    "    print('accuracy:' , results/len(data) * 100 , \"%\")\n",
    "test(data[1000:42000], a, b, c, d)"
   ]
  }
 ],
 "metadata": {
  "kernelspec": {
   "display_name": "Python 3",
   "language": "python",
   "name": "python3"
  },
  "language_info": {
   "codemirror_mode": {
    "name": "ipython",
    "version": 3
   },
   "file_extension": ".py",
   "mimetype": "text/x-python",
   "name": "python",
   "nbconvert_exporter": "python",
   "pygments_lexer": "ipython3",
   "version": "3.7.12"
  },
  "papermill": {
   "default_parameters": {},
   "duration": 1449.985363,
   "end_time": "2022-07-04T17:09:51.860038",
   "environment_variables": {},
   "exception": null,
   "input_path": "__notebook__.ipynb",
   "output_path": "__notebook__.ipynb",
   "parameters": {},
   "start_time": "2022-07-04T16:45:41.874675",
   "version": "2.3.4"
  }
 },
 "nbformat": 4,
 "nbformat_minor": 5
}
